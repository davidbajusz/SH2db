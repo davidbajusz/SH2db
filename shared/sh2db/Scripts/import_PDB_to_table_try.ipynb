{
 "cells": [
  {
   "cell_type": "code",
   "execution_count": 1,
   "metadata": {},
   "outputs": [],
   "source": [
    "import pandas as pd\n",
    "\n",
    "from Bio import PDB\n",
    "\n",
    "# 3->1-betűs aminosav-kód konverzió dictionary\n",
    "from Bio.Data.IUPACData import protein_letters_3to1"
   ]
  },
  {
   "cell_type": "code",
   "execution_count": 2,
   "metadata": {},
   "outputs": [
    {
     "output_type": "execute_result",
     "data": {
      "text/plain": [
       "  UniProt entry Gene_domain UniProt residues PDB ID PDB chain ID PDB residues  \\\n",
       "0    3BP2_HUMAN      SH3BP2        458 - 538   2CR4            A     20 - 100   \n",
       "1    ABL1_HUMAN        ABL1        127 - 202   1AB2            A      11 - 86   \n",
       "2    ABL1_HUMAN        ABL1        127 - 202   1OPL            A    146 - 221   \n",
       "3    ABL1_HUMAN        ABL1        127 - 202   1OPL            B    146 - 221   \n",
       "4    ABL1_HUMAN        ABL1        127 - 202   2ABL            A    146 - 221   \n",
       "\n",
       "  Category Gene name Species  Res_start  Res_stop Uniprot_ID  \\\n",
       "0   SigReg    SH3BP2   HUMAN         20       100     P78314   \n",
       "1  Kinases      ABL1   HUMAN         11        86     P00519   \n",
       "2  Kinases      ABL1   HUMAN        146       221     P00519   \n",
       "3  Kinases      ABL1   HUMAN        146       221     P00519   \n",
       "4  Kinases      ABL1   HUMAN        146       221     P00519   \n",
       "\n",
       "   New_uniprot_start  New_uniprot_stop  Old_uniprot_start  Old_uniprot_stop  \n",
       "0                435               561                458               538  \n",
       "1                105               228                127               202  \n",
       "2                105               228                127               202  \n",
       "3                105               228                127               202  \n",
       "4                105               228                127               202  "
      ],
      "text/html": "<div>\n<style scoped>\n    .dataframe tbody tr th:only-of-type {\n        vertical-align: middle;\n    }\n\n    .dataframe tbody tr th {\n        vertical-align: top;\n    }\n\n    .dataframe thead th {\n        text-align: right;\n    }\n</style>\n<table border=\"1\" class=\"dataframe\">\n  <thead>\n    <tr style=\"text-align: right;\">\n      <th></th>\n      <th>UniProt entry</th>\n      <th>Gene_domain</th>\n      <th>UniProt residues</th>\n      <th>PDB ID</th>\n      <th>PDB chain ID</th>\n      <th>PDB residues</th>\n      <th>Category</th>\n      <th>Gene name</th>\n      <th>Species</th>\n      <th>Res_start</th>\n      <th>Res_stop</th>\n      <th>Uniprot_ID</th>\n      <th>New_uniprot_start</th>\n      <th>New_uniprot_stop</th>\n      <th>Old_uniprot_start</th>\n      <th>Old_uniprot_stop</th>\n    </tr>\n  </thead>\n  <tbody>\n    <tr>\n      <th>0</th>\n      <td>3BP2_HUMAN</td>\n      <td>SH3BP2</td>\n      <td>458 - 538</td>\n      <td>2CR4</td>\n      <td>A</td>\n      <td>20 - 100</td>\n      <td>SigReg</td>\n      <td>SH3BP2</td>\n      <td>HUMAN</td>\n      <td>20</td>\n      <td>100</td>\n      <td>P78314</td>\n      <td>435</td>\n      <td>561</td>\n      <td>458</td>\n      <td>538</td>\n    </tr>\n    <tr>\n      <th>1</th>\n      <td>ABL1_HUMAN</td>\n      <td>ABL1</td>\n      <td>127 - 202</td>\n      <td>1AB2</td>\n      <td>A</td>\n      <td>11 - 86</td>\n      <td>Kinases</td>\n      <td>ABL1</td>\n      <td>HUMAN</td>\n      <td>11</td>\n      <td>86</td>\n      <td>P00519</td>\n      <td>105</td>\n      <td>228</td>\n      <td>127</td>\n      <td>202</td>\n    </tr>\n    <tr>\n      <th>2</th>\n      <td>ABL1_HUMAN</td>\n      <td>ABL1</td>\n      <td>127 - 202</td>\n      <td>1OPL</td>\n      <td>A</td>\n      <td>146 - 221</td>\n      <td>Kinases</td>\n      <td>ABL1</td>\n      <td>HUMAN</td>\n      <td>146</td>\n      <td>221</td>\n      <td>P00519</td>\n      <td>105</td>\n      <td>228</td>\n      <td>127</td>\n      <td>202</td>\n    </tr>\n    <tr>\n      <th>3</th>\n      <td>ABL1_HUMAN</td>\n      <td>ABL1</td>\n      <td>127 - 202</td>\n      <td>1OPL</td>\n      <td>B</td>\n      <td>146 - 221</td>\n      <td>Kinases</td>\n      <td>ABL1</td>\n      <td>HUMAN</td>\n      <td>146</td>\n      <td>221</td>\n      <td>P00519</td>\n      <td>105</td>\n      <td>228</td>\n      <td>127</td>\n      <td>202</td>\n    </tr>\n    <tr>\n      <th>4</th>\n      <td>ABL1_HUMAN</td>\n      <td>ABL1</td>\n      <td>127 - 202</td>\n      <td>2ABL</td>\n      <td>A</td>\n      <td>146 - 221</td>\n      <td>Kinases</td>\n      <td>ABL1</td>\n      <td>HUMAN</td>\n      <td>146</td>\n      <td>221</td>\n      <td>P00519</td>\n      <td>105</td>\n      <td>228</td>\n      <td>127</td>\n      <td>202</td>\n    </tr>\n  </tbody>\n</table>\n</div>"
     },
     "metadata": {},
     "execution_count": 2
    }
   ],
   "source": [
    "pfam = pd.read_csv('/home/takacsg/Documents/sh2db/data/SH2_domain_containing_prot_right_resnum_fixed.csv')\n",
    "pfam.head()"
   ]
  },
  {
   "cell_type": "code",
   "execution_count": 7,
   "metadata": {},
   "outputs": [
    {
     "output_type": "error",
     "ename": "SyntaxError",
     "evalue": "invalid syntax (<ipython-input-7-a0309feb2b16>, line 10)",
     "traceback": [
      "\u001b[0;36m  File \u001b[0;32m\"<ipython-input-7-a0309feb2b16>\"\u001b[0;36m, line \u001b[0;32m10\u001b[0m\n\u001b[0;31m    structure = parser.get_structure(pdb_id, '/home/takacsg/Documents/sh2db/Structures/'+cat+'/'+gene+'/'+pdb+'/'+pdb+'_'+chain+'_SH2_'protein_pole'.pdb') # struct delles pdb-fájlokat nem szereti!\u001b[0m\n\u001b[0m                                                                                                                                                  ^\u001b[0m\n\u001b[0;31mSyntaxError\u001b[0m\u001b[0;31m:\u001b[0m invalid syntax\n"
     ]
    }
   ],
   "source": [
    "# PDB beolvasása, residues a residuek listája\n",
    "protein_pole = 'N' or 'C'\n",
    "for cat in pfam[\"Category\"].unique():\n",
    "    for gene in pfam[pfam[\"Category\"] == cat][\"Gene name\"].unique():\n",
    "        for pdb in pfam[pfam[\"Gene name\"] == gene][\"PDB ID\"].unique():\n",
    "            for chain in pfam[pfam[\"PDB ID\"] == pdb][\"PDB chain ID\"].unique():\n",
    "                #protein_pole = 'N' or 'C'\n",
    "                parser = PDB.PDBParser()\n",
    "                pdb_id = str(pdb+'_'+chain+'_SH2')\n",
    "                structure = parser.get_structure(pdb_id, '/home/takacsg/Documents/sh2db/Structures/'+cat+'/'+gene+'/'+pdb+'/'+pdb+'_'+chain+'_SH2_'protein_pole'.pdb') # struct delles pdb-fájlokat nem szereti!\n",
    "                #model = structure[0]\n",
    "                residues = PDB.Selection.unfold_entities(structure, \"R\")"
   ]
  },
  {
   "source": [
    "# THIS SHOULD WORK CORRECTLY!"
   ],
   "cell_type": "markdown",
   "metadata": {}
  },
  {
   "cell_type": "code",
   "execution_count": 8,
   "metadata": {},
   "outputs": [
    {
     "output_type": "error",
     "ename": "SyntaxError",
     "evalue": "invalid syntax (<ipython-input-8-163daac1c653>, line 9)",
     "traceback": [
      "\u001b[0;36m  File \u001b[0;32m\"<ipython-input-8-163daac1c653>\"\u001b[0;36m, line \u001b[0;32m9\u001b[0m\n\u001b[0;31m    structure = parser.get_structure(pdb_id, '/home/takacsg/Documents/sh2db/Structures/'+cat+'/'+gene+'/'+pdb+'/'+pdb+'_'+chain+'_SH2_'pole'.pdb') # struct delles pdb-fájlokat nem szereti!\u001b[0m\n\u001b[0m                                                                                                                                          ^\u001b[0m\n\u001b[0;31mSyntaxError\u001b[0m\u001b[0;31m:\u001b[0m invalid syntax\n"
     ]
    }
   ],
   "source": [
    "for cat in table[\"Category\"].unique():\n",
    "    print(\"Genes {}\".format(\",\".join(table[table[\"Category\"] == cat][\"Gene name\"].unique())))\n",
    "    for gene in table[table[\"Category\"] == cat][\"Gene name\"].unique():\n",
    "        for pdb in table[table[\"Gene name\"] == gene][\"PDB ID\"].unique():\n",
    "            for chain in table[table[\"PDB ID\"] == pdb][\"PDB chain ID\"].unique():\n",
    "                for pole in table[(table[\"PDB ID\"] == pdb) & (table[\"PDB chain ID\"] == chain)][\"Pole\"].unique():\n",
    "                    parser = PDB.PDBParser()\n",
    "                pdb_id = str(pdb+'_'+chain+'_SH2')\n",
    "                structure = parser.get_structure(pdb_id, '/home/takacsg/Documents/sh2db/Structures/'+cat+'/'+gene+'/'+pdb+'/'+pdb+'_'+chain+'_SH2_'pole'.pdb') # struct delles pdb-fájlokat nem szereti!\n",
    "                #model = structure[0]\n",
    "                residues = PDB.Selection.unfold_entities(structure, \"R\")"
   ]
  },
  {
   "cell_type": "code",
   "execution_count": 5,
   "metadata": {},
   "outputs": [
    {
     "output_type": "stream",
     "name": "stdout",
     "text": [
      "1D1Z_A_SH2\n"
     ]
    }
   ],
   "source": [
    "print(pdb_id)"
   ]
  },
  {
   "source": [
    "#### Previous line's error message:\n",
    "---------------------------------------------------------------------------\n",
    "FileNotFoundError                         Traceback (most recent call last)\n",
    "<ipython-input-3-8d77dcf7c01a> in <module>\n",
    "      7                 parser = PDB.PDBParser()\n",
    "      8                 pdb_id = str(pdb+'_'+chain+'_SH2')\n",
    "----> 9                 structure = parser.get_structure(pdb_id, '/home/takacsg/Documents/sh2db/Structures/'+cat+'/'+gene+'/'+pdb+'/'+pdb+'_'+chain+'_SH2.pdb') # struct delles pdb-fájlokat nem szereti!\n",
    "     10                 #model = structure[0]\n",
    "     11                 residues = PDB.Selection.unfold_entities(structure, \"R\")\n",
    "\n",
    "~/.local/lib/python3.6/site-packages/Bio/PDB/PDBParser.py in get_structure(self, id, file)\n",
    "     94             self.structure_builder.init_structure(id)\n",
    "     95 \n",
    "---> 96             with as_handle(file) as handle:\n",
    "     97                 lines = handle.readlines()\n",
    "     98                 if not lines:\n",
    "\n",
    "/usr/lib/python3.6/contextlib.py in __enter__(self)\n",
    "     79     def __enter__(self):\n",
    "     80         try:\n",
    "---> 81             return next(self.gen)\n",
    "     82         except StopIteration:\n",
    "     83             raise RuntimeError(\"generator didn't yield\") from None\n",
    "\n",
    "~/.local/lib/python3.6/site-packages/Bio/File.py in as_handle(handleish, mode, **kwargs)\n",
    "     70     \"\"\"\n",
    "     71     try:\n",
    "---> 72         with open(handleish, mode, **kwargs) as fp:\n",
    "     73             yield fp\n",
    "     74     except TypeError:\n",
    "\n",
    "FileNotFoundError: [Errno 2] No such file or directory: '/home/takacsg/Documents/sh2db/Structures/SigReg/SH2D1A/1D1Z/1D1Z_A_SH2.pdb'\n",
    "\n",
    "1D1Z_A_SH2.pdb\n",
    "                                                         /home/takacsg/Documents/sh2db/Structures/SigReg/SH2D1A/1D1Z/1D1Z_A.pdb"
   ],
   "cell_type": "markdown",
   "metadata": {}
  },
  {
   "cell_type": "code",
   "execution_count": 6,
   "metadata": {},
   "outputs": [
    {
     "output_type": "error",
     "ename": "SyntaxError",
     "evalue": "invalid syntax (<ipython-input-6-ececf961db10>, line 6)",
     "traceback": [
      "\u001b[0;36m  File \u001b[0;32m\"<ipython-input-6-ececf961db10>\"\u001b[0;36m, line \u001b[0;32m6\u001b[0m\n\u001b[0;31m    with open('/home/takacsg/Documents/sh2db/Structures/'+cat+'/'+gene+'/'+pdb+'/'+pdb+'_'+chain+'_SH2_'protein_pole'.pdb') as struct:\u001b[0m\n\u001b[0m                                                                                                                   ^\u001b[0m\n\u001b[0;31mSyntaxError\u001b[0m\u001b[0;31m:\u001b[0m invalid syntax\n"
     ]
    }
   ],
   "source": [
    "\n",
    "for cat in pfam[\"Category\"].unique():\n",
    "    for gene in pfam[pfam[\"Category\"] == cat][\"Gene name\"].unique():\n",
    "        for pdb in pfam[pfam[\"Gene name\"] == gene][\"PDB ID\"].unique():\n",
    "            for chain in pfam[pfam[\"PDB ID\"] == pdb][\"PDB chain ID\"].unique():\n",
    "                with open('/home/takacsg/Documents/sh2db/Structures/'+cat+'/'+gene+'/'+pdb+'/'+pdb+'_'+chain+'_SH2_.pdb') as struct:\n",
    "                    parser = PDB.PDBParser()\n",
    "                    pdb_id = str(pdb+'_'+chain+'_SH2')\n",
    "                    structure = parser.get_structure(pdb_id, struct) # Sok-modelles pdb-fájlokat nem szereti!\n",
    "                    #model = structure[0]\n",
    "                    residues = PDB.Selection.unfold_entities(structure, \"R\")"
   ]
  },
  {
   "source": [
    "#### Error message:\n",
    "ValueError                                Traceback (most recent call last)\n",
    "<ipython-input-5-afa8d3b65dbf> in <module>\n",
    "      7                     pdb_id = str(pdb+'_'+chain+'_SH2')\n",
    "      8                         #file =str(pdb+'_'+chain+'_SH2.pdb')\n",
    "----> 9                     structure = parser.get_structure(pdb_id, struct) # Sok-modelles pdb-fájlokat nem szereti!\n",
    "     10                     #model = structure[0]\n",
    "     11                     residues = PDB.Selection.unfold_entities(structure, \"R\")\n",
    "\n",
    "~/.local/lib/python3.6/site-packages/Bio/PDB/PDBParser.py in get_structure(self, id, file)\n",
    "     97                 lines = handle.readlines()\n",
    "     98                 if not lines:\n",
    "---> 99                     raise ValueError(\"Empty file.\")\n",
    "    100                 self._parse(lines)\n",
    "    101 \n",
    "\n",
    "ValueError: Empty file."
   ],
   "cell_type": "markdown",
   "metadata": {}
  },
  {
   "cell_type": "code",
   "execution_count": 5,
   "metadata": {},
   "outputs": [
    {
     "output_type": "stream",
     "name": "stdout",
     "text": [
      "1D1Z_A_SH2\n"
     ]
    }
   ],
   "source": [
    "print(pdb_id)"
   ]
  },
  {
   "cell_type": "code",
   "execution_count": null,
   "metadata": {},
   "outputs": [],
   "source": [
    "for cat in pfam[\"Category\"].unique():\n",
    "    for gene in pfam[pfam[\"Category\"] == cat][\"Gene name\"].unique():\n",
    "        for pdb in pfam[pfam[\"Gene name\"] == gene][\"PDB ID\"].unique():\n",
    "            for chain in pfam[pfam[\"PDB ID\"] == pdb][\"PDB chain ID\"].unique():\n",
    "                    # get the chain IDs\n",
    "                    chain = pdb+'_'+chain+'_SH2'.split('_')[1]\n",
    "                    # Get the one letter code of the amino acids with the residue numbers\n",
    "                    pdbseq = list(zip([protein_letters_3to1[i.get_resname().title()] for i in residues],[i.get_id()[1] for i in residues]))"
   ]
  },
  {
   "source": [
    "### A következő pontban, a increment számításánál mindig error-t kapok (mindig ugyanazt), próbáltam többféle képpen is megoldani (alább mutatom), de egyik sem járt sikerrel."
   ],
   "cell_type": "markdown",
   "metadata": {}
  },
  {
   "cell_type": "code",
   "execution_count": null,
   "metadata": {},
   "outputs": [],
   "source": [
    "# increment = int(pfam[pfam['PDB ID']==pdb]['New_uniprot_stop']) - pfam[pfam['PDB ID']==pdb]['New_PDB_stop'])\n",
    "# error: TypeError: cannot convert the series to <class 'int'>\n",
    "# Mindig ez a cannot convert ... errort kaptam.\n",
    "# Tried solutions:\n",
    "# 1)\n",
    "# int(pfam[pfam['PDB ID']==pdb]['New_uniprot_stop']) - int(pfam[pfam['PDB ID']==pdb]['New_PDB_stop'])\n",
    "# 2)\n",
    "# pfam[pfam['PDB ID']==pdb]['New_uniprot_stop'] = pfam[pfam['PDB ID']==pdb]['New_uniprot_stop'].astype(int)\n",
    "# pfam[pfam['PDB ID']==pdb]['New_PDB_stop'] = pfam[pfam['PDB ID']==pdb]['New_PDB_stop'].astype(int)"
   ]
  },
  {
   "cell_type": "code",
   "execution_count": null,
   "metadata": {},
   "outputs": [],
   "source": [
    "# Calculating the difference between the new uniprot stop and new pdb stop points:\n",
    "for cat in pfam[\"Category\"].unique():\n",
    "    for gene in pfam[pfam[\"Category\"] == cat][\"Gene name\"].unique():\n",
    "        for pdb in pfam[pfam[\"Gene name\"] == gene][\"PDB ID\"].unique():\n",
    "            increment = int(pfam[pfam['PDB ID']==pdb]['New_uniprot_stop'] - pfam[pfam['PDB ID']==pdb]['New_PDB_stop'])"
   ]
  },
  {
   "source": [
    "### És akkor ez az a rész, amivélm még nagyon foglalkoztam az előző error-ok javítgatása miatt, de:\n",
    "Ezt beletenném egy for ciklusba, ami nézi az egyezést a 'table' és \"pfam\" táblázat között,\n",
    "ahol egyezést talál ott csinálja meg for ciklusos sor alatti 3 sorban kódolt feladatot (tehát a számok és szekvencia beillesztése)"
   ],
   "cell_type": "markdown",
   "metadata": {}
  },
  {
   "cell_type": "code",
   "execution_count": null,
   "metadata": {},
   "outputs": [],
   "source": [
    "# a 'gene' itt az előző ciklusuok gene változójára utal, nem tudom, hogy felimseri-e így a notebook [mert ugye a táblázat első oszlopo a gene name-et tartalmazza...]\n",
    "# a pdb_id változó a odb szerkezet betöltése során lett létrehozva, és egy konkrét példán így néz ki: 2CR4_A } tehát tartalmazza a pdb id-t illetve a lánc id-t\n",
    "for (resname,resid) in pdbseq:\n",
    "    s=table.loc[(gene ,'numbers')]==str(resid+increment)\n",
    "    col=s[s].index[0]\n",
    "    table.loc[(gene, pdb_id),col]=resname"
   ]
  },
  {
   "source": [],
   "cell_type": "markdown",
   "metadata": {}
  },
  {
   "cell_type": "code",
   "execution_count": null,
   "metadata": {},
   "outputs": [],
   "source": []
  },
  {
   "cell_type": "code",
   "execution_count": null,
   "metadata": {},
   "outputs": [],
   "source": []
  },
  {
   "cell_type": "code",
   "execution_count": null,
   "metadata": {},
   "outputs": [],
   "source": []
  },
  {
   "cell_type": "code",
   "execution_count": null,
   "metadata": {},
   "outputs": [],
   "source": []
  }
 ],
 "metadata": {
  "kernelspec": {
   "name": "python3",
   "display_name": "Python 3",
   "language": "python"
  },
  "metadata": {
   "interpreter": {
    "hash": "31f2aee4e71d21fbe5cf8b01ff0e069b9275f58929596ceb00d14d90e3e16cd6"
   }
  }
 },
 "nbformat": 4,
 "nbformat_minor": 4
}