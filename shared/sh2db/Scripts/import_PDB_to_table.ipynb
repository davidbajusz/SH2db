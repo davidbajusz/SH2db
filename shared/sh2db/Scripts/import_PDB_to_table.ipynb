{
 "cells": [
  {
   "cell_type": "code",
   "execution_count": null,
   "metadata": {},
   "outputs": [],
   "source": [
    "import pandas as pd\n",
    "\n",
    "from Bio import PDB\n",
    "\n",
    "# 3->1-betűs aminosav-kód konverzió dictionary\n",
    "from Bio.Data.IUPACData import protein_letters_3to1"
   ]
  },
  {
   "cell_type": "code",
   "execution_count": null,
   "metadata": {},
   "outputs": [],
   "source": [
    "# PDB beolvasása, residues a residuek listája\n",
    "parser = PDB.PDBParser()\n",
    "structure = parser.get_structure(\"2cr4_A_SH2\", \"2cr4_A_SH2.pdb\") # Sok-modelles pdb-fájlokat nem szereti!\n",
    "residues = PDB.Selection.unfold_entities(structure, \"R\")"
   ]
  },
  {
   "cell_type": "code",
   "execution_count": null,
   "metadata": {},
   "outputs": [],
   "source": [
    "# az aktuális chain ID egyszerűen kiszedhető a fájlnévből\n",
    "\n",
    "chain=\"2cr4_A_SH2.pdb\".split('_')[1]\n",
    "chain"
   ]
  },
  {
   "cell_type": "code",
   "execution_count": null,
   "metadata": {},
   "outputs": [],
   "source": [
    "# tuple-ök listájaként kiszedjük a residue-kat egybetűs kóddal és számmal\n",
    "# egybetűs kód: i.get_resname(), ezt átalakítjuk titlecase-re: .title(), és lookup-oljuk a dictionaryből:\n",
    "# BSI.protein_letters_3to1[]\n",
    "# residue szám: i.get_id()[1], az 1-es index azért kell, mert nézd meg mit ad anélkül :)\n",
    "\n",
    "pdbseq=list(zip([BSI.protein_letters_3to1[i.get_resname().title()] for i in residues],[i.get_id()[1] for i in residues]))"
   ]
  },
  {
   "cell_type": "code",
   "execution_count": null,
   "metadata": {},
   "outputs": [],
   "source": [
    "print([i for i in pdbseq])"
   ]
  },
  {
   "cell_type": "code",
   "execution_count": null,
   "metadata": {},
   "outputs": [],
   "source": [
    "# Beolvassuk a táblázatot (itt csak egy példa) -> ennek a táblázatnak nem találtam meg a legújabb verzióját: \n",
    "# amiből ez a példa van, abban nincsenek a számok korrigálva (ez nagyon fontos!), a multiindex sincs bevezetve \n",
    "# és a PDB ID-k is rossz oszlopban vannak, de ez utóbbi mondjuk nem is kell, ha a lentebbi megoldást ciklusba foglalod és\n",
    "# azzal töltöd fel a táblázatot\n",
    "table=pd.read_csv('table_pelda.csv',index_col=[0,1])"
   ]
  },
  {
   "cell_type": "code",
   "execution_count": null,
   "metadata": {
    "scrolled": true
   },
   "outputs": [],
   "source": [
    "table"
   ]
  },
  {
   "cell_type": "code",
   "execution_count": null,
   "metadata": {},
   "outputs": [],
   "source": [
    "# Beolvassuk az aktualizált pfam táblázatot\n",
    "pfam=pd.read_csv('SH2_domain_containing_prot_right_resnum.csv')"
   ]
  },
  {
   "cell_type": "code",
   "execution_count": null,
   "metadata": {},
   "outputs": [],
   "source": [
    "# Kiszámoljuk a számozások közötti különbséget a STOP pozíciók alapján\n",
    "increment=int(pfam[pfam['PDB ID']=='2CR4']['New_uniprot_stop']-pfam[pfam['PDB ID']=='2CR4']['New_PDB_stop'])\n",
    "increment\n",
    "\n",
    "# ez a legtöbb esetben működik, mert a starttal ellentétben itt nincsenek nullák.\n",
    "# Kivétel: 619-620-as sorok (TNS2), illetve egyéb hibák is vannak, pl. 603-as sor STAP1, az előző sor (STAT5B)\n",
    "# számai \"átlógnak ide\", az ilyen hibákat javítani kellene, de egyelőre nem ez a prioritás."
   ]
  },
  {
   "cell_type": "code",
   "execution_count": null,
   "metadata": {},
   "outputs": [],
   "source": [
    "# Hozzáadunk egy sort, amit - karakterekkel töltünk ki alapból\n",
    "# Figyeld meg a multiindexelést: tuple, aminek az első eleme a fehérjenév\n",
    "\n",
    "table.loc[('SH3BP2','2CR4_'+chain),:] = '-'\n",
    "\n",
    "# a chain ID másképp is tárolható persze"
   ]
  },
  {
   "cell_type": "code",
   "execution_count": null,
   "metadata": {
    "scrolled": true
   },
   "outputs": [],
   "source": [
    "table"
   ]
  },
  {
   "cell_type": "code",
   "execution_count": null,
   "metadata": {},
   "outputs": [],
   "source": [
    "# Most pedig adjuk hozzá egyenként az egykódos aminosavakat a megfelelő cellákhoz. Ehhez az első trükk: szedjük ki\n",
    "# az adott (Uniprot) pozícióhoz tartozó oszlopindexet! Ehhez megnézzük hogy az adott fehérje \"numbers\" sorában melyik\n",
    "# oszlopindexnél van az adott szám, ez a megoldás stackoverflow-ról van: https://stackoverflow.com/questions/52173161/getting-a-list-of-indices-where-pandas-boolean-series-is-true\n",
    "\n",
    "# (sztringgé kell alakítani előbb)\n",
    "\n",
    "s=table.loc[('SH3BP2','numbers')]==str(434)\n",
    "s[s].index[0]"
   ]
  },
  {
   "cell_type": "code",
   "execution_count": null,
   "metadata": {},
   "outputs": [],
   "source": [
    "# Az előzőt végigiteráljuk a PDB minden egyes residue-jára, úgy hogy a PDB számozáshoz hozzáadjuk az \"increment\"-et\n",
    "\n",
    "for (resname,resid) in pdbseq:\n",
    "    s=table.loc[('SH3BP2','numbers')]==str(resid+increment)\n",
    "    col=s[s].index[0]\n",
    "    #eddig ugyanaz mint fentebb, csak az oszlopindexet mentjük a col változóba\n",
    "    \n",
    "    table.loc[('SH3BP2','2CR4_A'),col]=resname\n",
    "    # ezzel pedig beírtuk resname-et a megfelelő helyre"
   ]
  },
  {
   "cell_type": "code",
   "execution_count": null,
   "metadata": {},
   "outputs": [],
   "source": [
    "# És kész! Az eredményt lásd itt:\n",
    "\n",
    "table.to_csv('table_pelda_out.csv')\n",
    "\n",
    "# Figyeld meg hogy az aminosavak el vannak csúszva eggyel a kanonikus szekvenciához képest! Ezért fontos a számok\n",
    "# javítása a táblázatban! (+1 az összeshez, illetve a sor végén még van +4 pozíció!)"
   ]
  },
  {
   "cell_type": "code",
   "execution_count": null,
   "metadata": {},
   "outputs": [],
   "source": []
  },
  {
   "cell_type": "code",
   "execution_count": null,
   "metadata": {},
   "outputs": [],
   "source": []
  },
  {
   "cell_type": "code",
   "execution_count": null,
   "metadata": {},
   "outputs": [],
   "source": []
  }
 ],
 "metadata": {
  "kernelspec": {
   "display_name": "Python 3",
   "language": "python",
   "name": "python3"
  }
 },
 "nbformat": 4,
 "nbformat_minor": 4
}